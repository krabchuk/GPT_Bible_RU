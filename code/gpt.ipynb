{
 "cells": [
  {
   "cell_type": "code",
   "execution_count": 1,
   "metadata": {},
   "outputs": [
    {
     "name": "stdout",
     "output_type": "stream",
     "text": [
      "hello world\n"
     ]
    }
   ],
   "source": [
    "print('hello world')"
   ]
  },
  {
   "cell_type": "code",
   "execution_count": 4,
   "metadata": {},
   "outputs": [],
   "source": [
    "with open('../data/bible.txt') as f:\n",
    "    text = f.read()"
   ]
  },
  {
   "cell_type": "code",
   "execution_count": 20,
   "metadata": {},
   "outputs": [
    {
     "name": "stdout",
     "output_type": "stream",
     "text": [
      "\n",
      " !#&()*,-./0123456789:;?@PR[]_abcdehilmnoprtuvy «»АБВГДЕЖЗИЙКЛМНОПРСТУФХЦЧШЩЫЬЭЮЯабвгдежзийклмнопрстуфхцчшщъыьэюяё—…\n",
      "117\n"
     ]
    }
   ],
   "source": [
    "chars = sorted(list(set(text)))\n",
    "vocab_size = len(chars)\n",
    "print(''.join(chars))\n",
    "print(vocab_size)"
   ]
  },
  {
   "cell_type": "code",
   "execution_count": 32,
   "metadata": {},
   "outputs": [
    {
     "name": "stdout",
     "output_type": "stream",
     "text": [
      "[97, 98, 90, 84, 87, 100]\n",
      "привет\n"
     ]
    }
   ],
   "source": [
    "ctoi = {c : i for i, c in enumerate(chars)}\n",
    "itoc = {i : c for i, c in enumerate(chars)}\n",
    "encode = lambda s: [ctoi[c] for c in s]\n",
    "decode = lambda l: ''.join([itoc[i.item()] if type(i) is torch.Tensor else itoc[i] for i in l])\n",
    "\n",
    "encoded_hi = encode('привет')\n",
    "print(encoded_hi)\n",
    "print(decode(encoded_hi))"
   ]
  },
  {
   "cell_type": "code",
   "execution_count": 34,
   "metadata": {},
   "outputs": [
    {
     "name": "stdout",
     "output_type": "stream",
     "text": [
      "torch.Size([4147059])\n",
      "лю.\n",
      "\n",
      "2 Зем\n"
     ]
    }
   ],
   "source": [
    "import torch\n",
    "data = torch.tensor(encode(text), dtype=torch.long)\n",
    "print(data.shape)\n",
    "print(decode(data[100:110]))"
   ]
  },
  {
   "cell_type": "code",
   "execution_count": 35,
   "metadata": {},
   "outputs": [],
   "source": [
    "# train test split\n",
    "train_size_p = 0.9\n",
    "n = int(len(data) * train_size_p)\n",
    "train_data = data[:n]\n",
    "val_data = data[n:]"
   ]
  },
  {
   "cell_type": "code",
   "execution_count": 36,
   "metadata": {},
   "outputs": [
    {
     "data": {
      "text/plain": [
       "tensor([ 53,  87, 100, 103,  90,  91,   1,  89,  82])"
      ]
     },
     "execution_count": 36,
     "metadata": {},
     "output_type": "execute_result"
    }
   ],
   "source": [
    "block_size = 8\n",
    "train_data[:block_size+1]"
   ]
  },
  {
   "cell_type": "code",
   "execution_count": 38,
   "metadata": {},
   "outputs": [
    {
     "name": "stdout",
     "output_type": "stream",
     "text": [
      "when context is tensor([1]) the answer is 96\n",
      "when context is tensor([ 1, 96]) the answer is 83\n",
      "when context is tensor([ 1, 96, 83]) the answer is 98\n",
      "when context is tensor([ 1, 96, 83, 98]) the answer is 82\n",
      "when context is tensor([ 1, 96, 83, 98, 82]) the answer is 100\n",
      "when context is tensor([  1,  96,  83,  98,  82, 100]) the answer is 90\n",
      "when context is tensor([  1,  96,  83,  98,  82, 100,  90]) the answer is 93\n",
      "when context is tensor([  1,  96,  83,  98,  82, 100,  90,  93]) the answer is 90\n",
      "when context is tensor([1]) the answer is 86\n",
      "when context is tensor([ 1, 86]) the answer is 87\n",
      "when context is tensor([ 1, 86, 87]) the answer is 95\n",
      "when context is tensor([ 1, 86, 87, 95]) the answer is 110\n",
      "when context is tensor([  1,  86,  87,  95, 110]) the answer is 1\n",
      "when context is tensor([  1,  86,  87,  95, 110,   1]) the answer is 97\n",
      "when context is tensor([  1,  86,  87,  95, 110,   1,  97]) the answer is 96\n",
      "when context is tensor([  1,  86,  87,  95, 110,   1,  97,  96]) the answer is 99\n",
      "when context is tensor([29]) the answer is 22\n",
      "when context is tensor([29, 22]) the answer is 1\n",
      "when context is tensor([29, 22,  1]) the answer is 101\n",
      "when context is tensor([ 29,  22,   1, 101]) the answer is 94\n",
      "when context is tensor([ 29,  22,   1, 101,  94]) the answer is 90\n",
      "when context is tensor([ 29,  22,   1, 101,  94,  90]) the answer is 93\n",
      "when context is tensor([ 29,  22,   1, 101,  94,  90,  93]) the answer is 96\n",
      "when context is tensor([ 29,  22,   1, 101,  94,  90,  93,  96]) the answer is 99\n",
      "when context is tensor([90]) the answer is 1\n",
      "when context is tensor([90,  1]) the answer is 96\n",
      "when context is tensor([90,  1, 96]) the answer is 105\n",
      "when context is tensor([ 90,   1,  96, 105]) the answer is 90\n",
      "when context is tensor([ 90,   1,  96, 105,  90]) the answer is 99\n",
      "when context is tensor([ 90,   1,  96, 105,  90,  99]) the answer is 100\n",
      "when context is tensor([ 90,   1,  96, 105,  90,  99, 100]) the answer is 90\n",
      "when context is tensor([ 90,   1,  96, 105,  90,  99, 100,  90]) the answer is 100\n"
     ]
    }
   ],
   "source": [
    "torch.manual_seed(42)\n",
    "\n",
    "batch_size = 4\n",
    "block_size = 8\n",
    "\n",
    "def get_batch(split):\n",
    "    data = train_data if split == 'train' else val_data\n",
    "    ix = torch.randint(len(data) - block_size, (batch_size,))\n",
    "    x = torch.stack([data[i:i+block_size] for i in ix])\n",
    "    y = torch.stack([data[i+1:i+block_size+1] for i in ix])\n",
    "    return x, y\n",
    "\n",
    "xb, yb = get_batch('train')\n",
    "\n",
    "for b in range(batch_size):\n",
    "    for t in range(block_size):\n",
    "        print(f'when context is {xb[b, :t+1]} the answer is {yb[b,t]}')\n"
   ]
  },
  {
   "cell_type": "code",
   "execution_count": 45,
   "metadata": {},
   "outputs": [
    {
     "name": "stdout",
     "output_type": "stream",
     "text": [
      "tensor(4.9712, grad_fn=<NllLossBackward0>)\n",
      "\n",
      "жТиЭИyБRэoВПдй Р!y1Тё егг]dус 2mRёХКж)Ь44v)ТtР6Эc/_Хrн_ърЦйИyМvt/5э5*Тri«4Э]9ТМооЕ«НУф6МлХЗчСКc&АхГм\n"
     ]
    }
   ],
   "source": [
    "import torch\n",
    "import torch.nn as nn\n",
    "import torch.nn.functional as F\n",
    "\n",
    "class BigramModel(nn.Module):\n",
    "    def __init__(self):\n",
    "        super().__init__()\n",
    "        self.embeddings = nn.Embedding(vocab_size, vocab_size)\n",
    "\n",
    "    def forward(self, idx, target=None):\n",
    "        logits = self.embeddings(idx) # batch x block x vocab_size\n",
    "\n",
    "        if target is None:\n",
    "            loss = None\n",
    "        else:\n",
    "            logits = logits.view(batch_size * block_size, vocab_size)\n",
    "            target = target.view(batch_size * block_size)\n",
    "            loss = F.cross_entropy(logits, target)\n",
    "\n",
    "        return logits, loss\n",
    "\n",
    "    def generate(self, idx, max_new_tokens):\n",
    "        for _ in range(max_new_tokens):\n",
    "            logits, loss = self(idx) # batch x block x vocab_size\n",
    "            logits = logits[:, -1, :] # batch x vocab_size\n",
    "            probs = F.softmax(logits, dim=-1) # batch x vocab_size\n",
    "            idx_next = torch.multinomial(probs, num_samples=1) # batch x 1\n",
    "            idx = torch.cat((idx, idx_next), dim=1)\n",
    "        return idx\n",
    "\n",
    "m = BigramModel()\n",
    "logits, loss = m(xb, yb)\n",
    "print(loss)\n",
    "\n",
    "print(decode(m.generate(torch.zeros((1, 1), dtype=torch.long), 100)[0].tolist()))"
   ]
  },
  {
   "cell_type": "code",
   "execution_count": 46,
   "metadata": {},
   "outputs": [],
   "source": [
    "optimizer = torch.optim.AdamW(m.parameters(), lr=1e-3)"
   ]
  },
  {
   "cell_type": "code",
   "execution_count": 50,
   "metadata": {},
   "outputs": [
    {
     "name": "stdout",
     "output_type": "stream",
     "text": [
      "2.4091498851776123\n"
     ]
    }
   ],
   "source": [
    "batch_size = 32\n",
    "N_STEPS = 10000\n",
    "\n",
    "for step in range(N_STEPS):\n",
    "    xb, yb = get_batch('train')\n",
    "\n",
    "    logits, loss = m(xb, yb)\n",
    "    optimizer.zero_grad(set_to_none=True)\n",
    "    loss.backward()\n",
    "    optimizer.step()\n",
    "\n",
    "print(loss.item())"
   ]
  },
  {
   "cell_type": "code",
   "execution_count": 52,
   "metadata": {},
   "outputs": [
    {
     "name": "stdout",
     "output_type": "stream",
     "text": [
      "\n",
      "461 Ж8 Говсь х и по я стоги вь, и и тьтсим, оеважил иЦю еда бодобоей, сомли ст изв м, казахеливаспрьвих, Ах сто нала Оноршерита и м? Модре И вёлоиренидми си в ни в ви нане, чей пае.\n",
      "15 Иешими ух, кои ть беры с пожуенараждаролоти бынавстелобого трене. е вомелешла и го пт у» пршёси и сля:\n",
      "\n",
      "166ще, илсе см\n",
      "\n",
      "18 И г какудегота, у одагил веду.\n",
      "2 Свони зылнинелови Си гудт ча вотсази мни итя Егушомётвкотен к приевямо ет в огляза м.\n",
      "3 Иай;\n",
      "36за уткодеша и сей? оя\n",
      "\n",
      "4 Ие онаме, Его килою, ко ихлего еля.\n",
      "\n",
      "3 \n"
     ]
    }
   ],
   "source": [
    "print(decode(m.generate(torch.zeros((1, 1), dtype=torch.long), 500)[0].tolist()))"
   ]
  },
  {
   "cell_type": "code",
   "execution_count": 54,
   "metadata": {},
   "outputs": [
    {
     "data": {
      "text/plain": [
       "torch.Size([4, 8, 2])"
      ]
     },
     "execution_count": 54,
     "metadata": {},
     "output_type": "execute_result"
    }
   ],
   "source": [
    "batch_size = 4\n",
    "block_size = 8\n",
    "vocab_size = 2\n",
    "x = torch.randn(batch_size, block_size, vocab_size)\n",
    "x.shape"
   ]
  },
  {
   "cell_type": "code",
   "execution_count": null,
   "metadata": {},
   "outputs": [],
   "source": [
    "xbow = torch.randn(batch_size, block_size, vocab_size)\n",
    "for b in range(batch_size):\n",
    "    for t in range(block_size):\n",
    "        xprev = x[b,:t+1]\n",
    "        xbow[b,t] = torch.mean(xprev, 0)"
   ]
  },
  {
   "cell_type": "code",
   "execution_count": 60,
   "metadata": {},
   "outputs": [
    {
     "name": "stdout",
     "output_type": "stream",
     "text": [
      "tensor([[7., 5., 2.],\n",
      "        [5., 7., 4.],\n",
      "        [0., 7., 8.],\n",
      "        [9., 8., 8.]])\n",
      "tensor([[ 7.,  5.,  2.],\n",
      "        [12., 12.,  6.],\n",
      "        [12., 19., 14.],\n",
      "        [21., 27., 22.]])\n"
     ]
    }
   ],
   "source": [
    "a = torch.tril(torch.ones(4, 4))\n",
    "b = torch.randint(0, 10, (4, 3)).float()\n",
    "c = a @ b\n",
    "print(b)\n",
    "print(c)"
   ]
  },
  {
   "cell_type": "code",
   "execution_count": null,
   "metadata": {},
   "outputs": [],
   "source": []
  }
 ],
 "metadata": {
  "kernelspec": {
   "display_name": "base",
   "language": "python",
   "name": "python3"
  },
  "language_info": {
   "codemirror_mode": {
    "name": "ipython",
    "version": 3
   },
   "file_extension": ".py",
   "mimetype": "text/x-python",
   "name": "python",
   "nbconvert_exporter": "python",
   "pygments_lexer": "ipython3",
   "version": "3.11.5"
  }
 },
 "nbformat": 4,
 "nbformat_minor": 2
}
